{
 "cells": [
  {
   "cell_type": "markdown",
   "id": "9e613a03-c699-4004-adb3-e590dbfa159a",
   "metadata": {},
   "source": [
    "# About this notbook\n",
    "This is an example notebook for Nectar AI-Ready LLM image.\n",
    "\n",
    "This image contains the following pre-installed libraries:\n",
    "- datasets\n",
    "- matplotlib\n",
    "- nltk\n",
    "- numpy\n",
    "- pandas\n",
    "- plotly\n",
    "- regex\n",
    "- rouge_score\n",
    "- safetensors\n",
    "- scikit-learn\n",
    "- seaborn\n",
    "- torch\n",
    "- tqdm\n",
    "- transformers[torch]\n",
    "- wordcloud\n",
    "- textblob\n",
    "- gensim\n",
    "- sentencepiece\n",
    "- sentence-transformers"
   ]
  },
  {
   "cell_type": "markdown",
   "id": "0021e3aa-20a4-43dc-8404-5db8a6026ca2",
   "metadata": {},
   "source": [
    "# Import Libraries"
   ]
  },
  {
   "cell_type": "code",
   "execution_count": null,
   "id": "03ba72b5-365b-4a53-a982-c892dd45c71d",
   "metadata": {},
   "outputs": [],
   "source": [
    "import nltk\n",
    "from sklearn.datasets import fetch_20newsgroups\n",
    "from sklearn.feature_extraction.text import CountVectorizer\n",
    "from sklearn.naive_bayes import MultinomialNB\n",
    "from sklearn.pipeline import make_pipeline\n",
    "from transformers import pipeline\n",
    "\n",
    "nltk.download('punkt')\n"
   ]
  },
  {
   "cell_type": "markdown",
   "id": "c7313b0f-141a-4b69-818f-54ea89f4bbaf",
   "metadata": {},
   "source": [
    "# Text Classification with Scikit-learn"
   ]
  },
  {
   "cell_type": "code",
   "execution_count": null,
   "id": "c84adda4-0557-4c98-b93f-df3ce1690b86",
   "metadata": {},
   "outputs": [],
   "source": [
    "# Load dataset\n",
    "data = fetch_20newsgroups(subset='train', categories=['sci.space', 'rec.sport.baseball'])\n",
    "X, y = data.data, data.target\n",
    "\n",
    "# Create and train a model\n",
    "model = make_pipeline(CountVectorizer(), MultinomialNB())\n",
    "model.fit(X, y)\n",
    "\n",
    "# Predict on a new sample\n",
    "sample_text = [\"NASA announced a new mission to Mars.\"]\n",
    "predicted_category = model.predict(sample_text)\n",
    "print(f\"Predicted Category: {data.target_names[predicted_category[0]]}\")"
   ]
  },
  {
   "cell_type": "markdown",
   "id": "e91b22da-70e2-4be4-a024-34ad115f284a",
   "metadata": {},
   "source": [
    "# Text Generation with Hugging Face Transformers"
   ]
  },
  {
   "cell_type": "code",
   "execution_count": null,
   "id": "0ce0fbba-cc79-4d7a-908f-4ce490d13102",
   "metadata": {},
   "outputs": [],
   "source": [
    "# Using a text generation pipeline\n",
    "generator = pipeline(\"text-generation\", model=\"gpt2\")\n",
    "prompt = \"Artificial Intelligence is transforming the world\"\n",
    "result = generator(prompt, max_length=50, num_return_sequences=1)\n",
    "print(result[0]['generated_text'])\n"
   ]
  },
  {
   "cell_type": "markdown",
   "id": "342cb28e-ff7a-40c4-90d5-78eb690e40c0",
   "metadata": {},
   "source": [
    "# Sentiment Analysis"
   ]
  },
  {
   "cell_type": "code",
   "execution_count": null,
   "id": "d5b75e7e-aea8-4cef-a18d-7b3c00e50077",
   "metadata": {},
   "outputs": [],
   "source": [
    "sentiment_analyzer = pipeline(\"sentiment-analysis\")\n",
    "\n",
    "text = \"I love how easy machine learning has become with modern libraries!\"\n",
    "result = sentiment_analyzer(text)\n",
    "\n",
    "print(f\"Text: {text}\")\n",
    "print(f\"Sentiment: {result[0]['label']}, Confidence: {result[0]['score']:.2f}\")"
   ]
  },
  {
   "cell_type": "markdown",
   "id": "7a8f5dfa-359f-4fd8-bead-2eec41283c18",
   "metadata": {},
   "source": [
    "# Remove cache files"
   ]
  },
  {
   "cell_type": "code",
   "execution_count": null,
   "id": "20e86a31-372c-4aa7-8b98-273c5ede602d",
   "metadata": {},
   "outputs": [],
   "source": [
    "# Uncomment the line below to clean the cache files\n",
    "# !rm -rf ~/.cache/huggingface/hub"
   ]
  }
 ],
 "metadata": {
  "kernelspec": {
   "display_name": "Python 3 (ipykernel)",
   "language": "python",
   "name": "python3"
  },
  "language_info": {
   "codemirror_mode": {
    "name": "ipython",
    "version": 3
   },
   "file_extension": ".py",
   "mimetype": "text/x-python",
   "name": "python",
   "nbconvert_exporter": "python",
   "pygments_lexer": "ipython3",
   "version": "3.12.4"
  }
 },
 "nbformat": 4,
 "nbformat_minor": 5
}
