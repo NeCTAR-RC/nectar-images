{
 "cells": [
  {
   "cell_type": "markdown",
   "id": "4fb27729-86a7-4cc4-b51b-bd16d4fd5faf",
   "metadata": {},
   "source": [
    "# About this notebook\n",
    "This notebook demonstrates how to use MLflow for tracking machine learning experiments using the famous Iris dataset from sklearn."
   ]
  },
  {
   "cell_type": "markdown",
   "id": "12b3bd4c-31c3-4f28-8301-0bd94a644926",
   "metadata": {},
   "source": [
    "# Import libraries and prepare data"
   ]
  },
  {
   "cell_type": "code",
   "execution_count": null,
   "id": "21e04e34-a2db-4ace-901f-e0861b4ef514",
   "metadata": {},
   "outputs": [],
   "source": [
    "import mlflow\n",
    "from sklearn import datasets\n",
    "from sklearn.linear_model import LogisticRegression\n",
    "from sklearn.model_selection import train_test_split\n",
    "from sklearn.metrics import accuracy_score, confusion_matrix\n",
    "import matplotlib.pyplot as plt\n",
    "import seaborn as sns"
   ]
  },
  {
   "cell_type": "markdown",
   "id": "cea1ccad",
   "metadata": {},
   "source": [
    "# Prepare dataset"
   ]
  },
  {
   "cell_type": "code",
   "execution_count": null,
   "id": "b707adb1-a9b3-4298-a7c1-3e038e18aff6",
   "metadata": {},
   "outputs": [],
   "source": [
    "iris = datasets.load_iris()\n",
    "X = iris.data\n",
    "y = iris.target\n",
    "\n",
    "# Split into training and test sets\n",
    "X_train, X_test, y_train, y_test = train_test_split(X, y, test_size=0.3, random_state=42)\n"
   ]
  },
  {
   "cell_type": "markdown",
   "id": "eaccca0d-a64c-4a3e-bc3e-be9696783a6c",
   "metadata": {},
   "source": [
    "# Track experiment"
   ]
  },
  {
   "cell_type": "code",
   "execution_count": null,
   "id": "dc30683c-9301-4d8a-ae29-d581388d6631",
   "metadata": {},
   "outputs": [],
   "source": [
    "mlflow.set_tracking_uri(\"http://127.0.0.1:5000/\")\n",
    "\n",
    "with mlflow.start_run(run_name=\"LogReg_Iris\"):\n",
    "\n",
    "    # Parameters\n",
    "    penalty = 'l2'\n",
    "    C = 1.0\n",
    "    solver = 'lbfgs'\n",
    "    max_iter = 200\n",
    "\n",
    "    # Log parameters\n",
    "    mlflow.log_param(\"penalty\", penalty)\n",
    "    mlflow.log_param(\"C\", C)\n",
    "    mlflow.log_param(\"solver\", solver)\n",
    "    mlflow.log_param(\"max_iter\", max_iter)\n",
    "\n",
    "    # Train model\n",
    "    model = LogisticRegression(\n",
    "        penalty=penalty,\n",
    "        C=C,\n",
    "        solver=solver,\n",
    "        max_iter=max_iter,\n",
    "        multi_class='auto'\n",
    "    )\n",
    "    model.fit(X_train, y_train)\n",
    "\n",
    "    # Predict and calculate accuracy\n",
    "    y_pred = model.predict(X_test)\n",
    "    acc = accuracy_score(y_test, y_pred)\n",
    "\n",
    "    # Log metrics\n",
    "    mlflow.log_metric(\"accuracy\", acc)\n",
    "\n",
    "    # Log model\n",
    "    mlflow.sklearn.log_model(model, \"model\")\n",
    "\n",
    "    print(f\"Logged model with accuracy: {acc:.4f}\")\n"
   ]
  },
  {
   "cell_type": "markdown",
   "id": "df220615-03eb-4e57-9af1-08bb90142d4b",
   "metadata": {},
   "source": [
    "# Compare runs"
   ]
  },
  {
   "cell_type": "code",
   "execution_count": null,
   "id": "3956b05f-a98c-41bd-a904-d0d500de96e0",
   "metadata": {},
   "outputs": [],
   "source": [
    "C_values = [0.01, 0.1, 1, 10]\n",
    "\n",
    "for C in C_values:\n",
    "    with mlflow.start_run(run_name=f\"LogReg_C={C}\"):\n",
    "\n",
    "        # Model setup\n",
    "        model = LogisticRegression(\n",
    "            penalty='l2',\n",
    "            C=C,\n",
    "            solver='lbfgs',\n",
    "            max_iter=200,\n",
    "            multi_class='auto'\n",
    "        )\n",
    "        model.fit(X_train, y_train)\n",
    "\n",
    "        # Prediction & accuracy\n",
    "        y_pred = model.predict(X_test)\n",
    "        acc = accuracy_score(y_test, y_pred)\n",
    "\n",
    "        # Log hyperparameter and metric\n",
    "        mlflow.log_param(\"C\", C)\n",
    "        mlflow.log_metric(\"accuracy\", acc)\n",
    "\n",
    "        # Log model\n",
    "        mlflow.sklearn.log_model(model, \"model\")\n",
    "\n",
    "        print(f\"Run with C={C} logged. Accuracy: {acc:.4f}\")\n"
   ]
  },
  {
   "cell_type": "markdown",
   "id": "944c0317-d3fd-4267-b052-bc67efe51882",
   "metadata": {},
   "source": [
    "# Log the plot of confusion matrix"
   ]
  },
  {
   "cell_type": "code",
   "execution_count": null,
   "id": "113e72f2-7282-407f-9675-0d91a95fe548",
   "metadata": {},
   "outputs": [],
   "source": [
    "best_C = 1.0\n",
    "\n",
    "with mlflow.start_run(run_name=f\"LogReg_C={best_C}_ConfMatrix\"):\n",
    "\n",
    "    model = LogisticRegression(\n",
    "        penalty='l2',\n",
    "        C=best_C,\n",
    "        solver='lbfgs',\n",
    "        max_iter=200,\n",
    "        multi_class='auto'\n",
    "    )\n",
    "    model.fit(X_train, y_train)\n",
    "    y_pred = model.predict(X_test)\n",
    "\n",
    "    # Log parameter and accuracy\n",
    "    acc = accuracy_score(y_test, y_pred)\n",
    "    mlflow.log_param(\"C\", best_C)\n",
    "    mlflow.log_metric(\"accuracy\", acc)\n",
    "\n",
    "    # Confusion matrix\n",
    "    cm = confusion_matrix(y_test, y_pred)\n",
    "    plt.figure(figsize=(6, 4))\n",
    "    sns.heatmap(cm, annot=True, fmt=\"d\", cmap=\"Blues\", xticklabels=iris.target_names, yticklabels=iris.target_names)\n",
    "    plt.xlabel(\"Predicted Label\")\n",
    "    plt.ylabel(\"True Label\")\n",
    "    plt.title(f\"Confusion Matrix (C={best_C})\")\n",
    "\n",
    "    # Save and log the figure\n",
    "    plot_path = \"confusion_matrix.png\"\n",
    "    plt.savefig(plot_path)\n",
    "    mlflow.log_artifact(plot_path)\n",
    "    plt.close()\n",
    "\n",
    "    # Log model\n",
    "    mlflow.sklearn.log_model(model, \"model\")\n",
    "\n",
    "    print(f\"Confusion matrix logged for model with C={best_C}. Accuracy: {acc:.4f}\")\n"
   ]
  },
  {
   "cell_type": "code",
   "execution_count": null,
   "id": "22ec2a53-3ca8-4985-a7f6-a011f90823c4",
   "metadata": {},
   "outputs": [],
   "source": []
  }
 ],
 "metadata": {
  "kernelspec": {
   "display_name": "Python 3 (ipykernel)",
   "language": "python",
   "name": "python3"
  },
  "language_info": {
   "codemirror_mode": {
    "name": "ipython",
    "version": 3
   },
   "file_extension": ".py",
   "mimetype": "text/x-python",
   "name": "python",
   "nbconvert_exporter": "python",
   "pygments_lexer": "ipython3",
   "version": "3.10.14"
  }
 },
 "nbformat": 4,
 "nbformat_minor": 5
}
